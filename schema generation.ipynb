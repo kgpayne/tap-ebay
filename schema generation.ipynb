{
 "cells": [
  {
   "cell_type": "code",
   "execution_count": null,
   "id": "8a7e16a2",
   "metadata": {},
   "outputs": [],
   "source": [
    "import json\n",
    "from pprint import pprint\n",
    "from copy import deepcopy\n",
    "\n",
    "from tap_ebay.client import eBayClient"
   ]
  },
  {
   "cell_type": "code",
   "execution_count": null,
   "id": "c5970fc9",
   "metadata": {},
   "outputs": [],
   "source": [
    "import datetime\n",
    "from ebaysdk.response import ResponseDataObject\n",
    "\n",
    "from genson import SchemaBuilder\n",
    "from genson.schema.strategies import TypedSchemaStrategy\n",
    "        \n",
    "class CustomDateTime(TypedSchemaStrategy):\n",
    "    \"\"\"\n",
    "    strategy for date-time formatted strings\n",
    "    \"\"\"\n",
    "    JS_TYPE = 'string'\n",
    "    PYTHON_TYPE = (str, type(u''))\n",
    "\n",
    "    # create a new instance variable\n",
    "    def __init__(self, node_class):\n",
    "        super().__init__(node_class)\n",
    "        self.format = \"date-time\"\n",
    "\n",
    "    @classmethod\n",
    "    def match_object(self, obj):\n",
    "        super().match_object(obj)\n",
    "        try:\n",
    "            if isinstance(obj, datetime.datetime):\n",
    "                return True\n",
    "            else:\n",
    "                return False\n",
    "        except (TypeError, ValueError) as exception:\n",
    "            #print(exception)\n",
    "            return False\n",
    "\n",
    "    def to_schema(self):\n",
    "        schema = super().to_schema()\n",
    "        schema['type'] = self.JS_TYPE\n",
    "        schema['format'] = self.format\n",
    "        return schema\n",
    "\n",
    "class CustomSchemaBuilder(SchemaBuilder):\n",
    "    \"\"\" detects & labels date-time formatted strings \"\"\"\n",
    "    EXTRA_STRATEGIES = (CustomDateTime, )"
   ]
  },
  {
   "cell_type": "code",
   "execution_count": null,
   "id": "7c4857ee",
   "metadata": {},
   "outputs": [],
   "source": [
    "config = json.load(open(\".secrets/config.json\", \"r\"))"
   ]
  },
  {
   "cell_type": "code",
   "execution_count": null,
   "id": "6ad5337f",
   "metadata": {},
   "outputs": [],
   "source": [
    "client = eBayClient(app_id=config[\"app_id\"])"
   ]
  },
  {
   "cell_type": "code",
   "execution_count": null,
   "id": "0543e950",
   "metadata": {},
   "outputs": [],
   "source": [
    "api = client.get_finding_api()"
   ]
  },
  {
   "cell_type": "code",
   "execution_count": null,
   "id": "3ed33ec8",
   "metadata": {},
   "outputs": [],
   "source": [
    "verb = config[\"searches\"][0][\"verb\"]\n",
    "data = config[\"searches\"][0][\"data\"]\n",
    "response = client.execute(api, verb, data)"
   ]
  },
  {
   "cell_type": "code",
   "execution_count": null,
   "id": "3cb75761",
   "metadata": {},
   "outputs": [],
   "source": [
    "dir(response.reply.paginationOutput)"
   ]
  },
  {
   "cell_type": "code",
   "execution_count": null,
   "id": "2ae01b24",
   "metadata": {},
   "outputs": [],
   "source": [
    "def get_all_items(client, api, verb, data, max_pages=100):\n",
    "    items = []\n",
    "    params = deepcopy(data)\n",
    "    params[\"paginationInput\"] =  {\"entriesPerPage\": 100}\n",
    "    response = client.execute(api, verb, params)\n",
    "    items.extend(response.reply.searchResult.item)\n",
    "    page_number = int(response.reply.paginationOutput.pageNumber)\n",
    "    total_pages = int(response.reply.paginationOutput.totalPages)\n",
    "    while (page_number < total_pages) and (page_number < max_pages):\n",
    "        page_number += 1\n",
    "        params[\"paginationInput\"] =  {\"entriesPerPage\": 100, \"pageNumber\": page_number}\n",
    "        response = client.execute(api, verb, params)\n",
    "        items.extend(response.reply.searchResult.item)\n",
    "    return items"
   ]
  },
  {
   "cell_type": "code",
   "execution_count": null,
   "id": "c787c9f3",
   "metadata": {},
   "outputs": [],
   "source": [
    "items = get_all_items(client, api, verb, data, max_pages=10)"
   ]
  },
  {
   "cell_type": "code",
   "execution_count": null,
   "id": "b44d8b6a",
   "metadata": {},
   "outputs": [],
   "source": [
    "def to_dict(obj):\n",
    "    if isinstance(obj, ResponseDataObject):\n",
    "        obj = obj.__dict__\n",
    "        for key, value in obj.items():\n",
    "            obj[key] = to_dict(value)\n",
    "    return obj"
   ]
  },
  {
   "cell_type": "code",
   "execution_count": null,
   "id": "f8fab675",
   "metadata": {},
   "outputs": [],
   "source": [
    "records = [to_dict(i) for i in items]"
   ]
  },
  {
   "cell_type": "code",
   "execution_count": null,
   "id": "45a7efa3",
   "metadata": {},
   "outputs": [],
   "source": [
    "len(records)"
   ]
  },
  {
   "cell_type": "code",
   "execution_count": null,
   "id": "a557d39e",
   "metadata": {},
   "outputs": [],
   "source": [
    "int(response.reply.paginationOutput.totalEntries)"
   ]
  },
  {
   "cell_type": "code",
   "execution_count": null,
   "id": "2cfe418f",
   "metadata": {},
   "outputs": [],
   "source": [
    "builder = CustomSchemaBuilder()\n",
    "for record in records:\n",
    "    builder.add_object(record)\n",
    "json_schema = builder.to_json(indent=2)\n",
    "print(json_schema)"
   ]
  },
  {
   "cell_type": "raw",
   "id": "73600cba",
   "metadata": {},
   "source": [
    "!mkdir tap_ebay/schema"
   ]
  },
  {
   "cell_type": "code",
   "execution_count": null,
   "id": "f7d6f6fb",
   "metadata": {},
   "outputs": [],
   "source": [
    "with open(\"tap_ebay/schema/finding_item.json\", \"w\") as search_item_schema:\n",
    "    search_item_schema.write(json_schema)"
   ]
  },
  {
   "cell_type": "code",
   "execution_count": null,
   "id": "c00dbcba",
   "metadata": {},
   "outputs": [],
   "source": []
  }
 ],
 "metadata": {
  "kernelspec": {
   "display_name": "tap-ebay",
   "language": "python",
   "name": "tap-ebay"
  },
  "language_info": {
   "codemirror_mode": {
    "name": "ipython",
    "version": 3
   },
   "file_extension": ".py",
   "mimetype": "text/x-python",
   "name": "python",
   "nbconvert_exporter": "python",
   "pygments_lexer": "ipython3",
   "version": "3.8.11"
  }
 },
 "nbformat": 4,
 "nbformat_minor": 5
}
